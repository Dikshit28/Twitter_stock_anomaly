{
 "cells": [
  {
   "cell_type": "markdown",
   "metadata": {},
   "source": [
    "# Obtain and Prepare Stock Data from Alpha Vantage API\n",
    "# to Feed Azure Anomaly Detector API"
   ]
  },
  {
   "cell_type": "markdown",
   "metadata": {},
   "source": [
    "Install Alpha Vantage Package\n",
    "\n",
    "Read detail API documentation : https://www.alphavantage.co/documentation/"
   ]
  },
  {
   "cell_type": "code",
   "execution_count": 371,
   "metadata": {},
   "outputs": [],
   "source": [
    "#!pip install alpha_vantage"
   ]
  },
  {
   "cell_type": "markdown",
   "metadata": {},
   "source": [
    "Obtain Pandas Dataframe from Alpha Vantage API\n",
    "\n",
    "Let's obtain weekly stock performance data of Twitter (TWTR)"
   ]
  },
  {
   "cell_type": "code",
   "execution_count": 372,
   "metadata": {},
   "outputs": [
    {
     "name": "stdout",
     "output_type": "stream",
     "text": [
      "            1. open  2. high  3. low  4. close    5. volume\n",
      "date                                                       \n",
      "2022-10-28    50.71    54.00   50.52     53.70  226961882.0\n",
      "2022-10-21    50.50    52.70   49.55     49.89  119363153.0\n",
      "2022-10-14    49.66    51.07   49.50     50.45   74444265.0\n",
      "2022-10-07    43.90    52.30   42.23     49.18  240992098.0\n",
      "2022-09-30    41.50    44.66   40.66     43.84   80150194.0\n"
     ]
    }
   ],
   "source": [
    "from alpha_vantage.timeseries import TimeSeries\n",
    "import matplotlib.pyplot as plt\n",
    "ts = TimeSeries(key='AX8ZS33OG0EFQ5C3', output_format='pandas')  # pandas\n",
    "df, meta_data = ts.get_weekly(symbol='TWTR')\n",
    "print(df.head())"
   ]
  },
  {
   "cell_type": "markdown",
   "metadata": {},
   "source": [
    "Reset Dataframe Index"
   ]
  },
  {
   "cell_type": "code",
   "execution_count": 373,
   "metadata": {},
   "outputs": [
    {
     "name": "stdout",
     "output_type": "stream",
     "text": [
      "        date  1. open  2. high  3. low  4. close    5. volume\n",
      "0 2022-10-28    50.71    54.00   50.52     53.70  226961882.0\n",
      "1 2022-10-21    50.50    52.70   49.55     49.89  119363153.0\n",
      "2 2022-10-14    49.66    51.07   49.50     50.45   74444265.0\n",
      "3 2022-10-07    43.90    52.30   42.23     49.18  240992098.0\n",
      "4 2022-09-30    41.50    44.66   40.66     43.84   80150194.0\n"
     ]
    }
   ],
   "source": [
    "df.reset_index(inplace=True)\n",
    "print(df.head())"
   ]
  },
  {
   "cell_type": "markdown",
   "metadata": {},
   "source": [
    "Drop unnecessary columns from Dataframe, we only look into close value as an example."
   ]
  },
  {
   "cell_type": "code",
   "execution_count": 374,
   "metadata": {},
   "outputs": [
    {
     "name": "stdout",
     "output_type": "stream",
     "text": [
      "        date  4. close\n",
      "0 2022-10-28     53.70\n",
      "1 2022-10-21     49.89\n",
      "2 2022-10-14     50.45\n",
      "3 2022-10-07     49.18\n",
      "4 2022-09-30     43.84\n"
     ]
    }
   ],
   "source": [
    "df.drop('1. open', axis=1, inplace=True)\n",
    "df.drop('5. volume', axis=1, inplace=True)\n",
    "df.drop('3. low', axis=1, inplace=True)\n",
    "df.drop('2. high', axis=1, inplace=True)\n",
    "print(df.head())"
   ]
  },
  {
   "cell_type": "markdown",
   "metadata": {},
   "source": [
    "Rename Dataframe columns name"
   ]
  },
  {
   "cell_type": "code",
   "execution_count": 375,
   "metadata": {},
   "outputs": [
    {
     "name": "stdout",
     "output_type": "stream",
     "text": [
      "   timestamp  value\n",
      "0 2022-10-28  53.70\n",
      "1 2022-10-21  49.89\n",
      "2 2022-10-14  50.45\n",
      "3 2022-10-07  49.18\n",
      "4 2022-09-30  43.84\n"
     ]
    }
   ],
   "source": [
    "df.rename(columns={'date':'timestamp','4. close':'value'}, inplace=True)\n",
    "print(df.head())"
   ]
  },
  {
   "cell_type": "markdown",
   "metadata": {},
   "source": [
    "Sort Dataframe timestamp column"
   ]
  },
  {
   "cell_type": "code",
   "execution_count": 376,
   "metadata": {},
   "outputs": [
    {
     "name": "stdout",
     "output_type": "stream",
     "text": [
      "     timestamp  value\n",
      "467 2013-11-15  43.98\n",
      "466 2013-11-22  41.00\n",
      "465 2013-11-29  41.57\n",
      "464 2013-12-06  44.95\n",
      "463 2013-12-13  59.00\n"
     ]
    }
   ],
   "source": [
    "df.sort_values(by=['timestamp'], inplace=True)\n",
    "print(df.head())"
   ]
  },
  {
   "cell_type": "markdown",
   "metadata": {},
   "source": [
    "Count number of row in Dataframe"
   ]
  },
  {
   "cell_type": "code",
   "execution_count": 377,
   "metadata": {},
   "outputs": [
    {
     "data": {
      "text/plain": [
       "timestamp    468\n",
       "value        468\n",
       "dtype: int64"
      ]
     },
     "execution_count": 377,
     "metadata": {},
     "output_type": "execute_result"
    }
   ],
   "source": [
    "df.count()"
   ]
  },
  {
   "cell_type": "markdown",
   "metadata": {},
   "source": [
    "Drop unnecessary rows from Dataframe, we only look into latest 48 weeks (1 year) data as an example."
   ]
  },
  {
   "cell_type": "code",
   "execution_count": 378,
   "metadata": {},
   "outputs": [],
   "source": [
    "df.drop(df.index[0:419], inplace=True)"
   ]
  },
  {
   "cell_type": "code",
   "execution_count": 379,
   "metadata": {},
   "outputs": [
    {
     "name": "stdout",
     "output_type": "stream",
     "text": [
      "    timestamp  value\n",
      "48 2021-11-26  47.07\n",
      "47 2021-12-03  42.07\n",
      "46 2021-12-10  45.56\n",
      "45 2021-12-17  43.07\n",
      "44 2021-12-23  44.16\n",
      "43 2021-12-31  43.22\n",
      "42 2022-01-07  39.67\n",
      "41 2022-01-14  38.44\n",
      "40 2022-01-21  34.82\n",
      "39 2022-01-28  35.27\n",
      "38 2022-02-04  36.94\n",
      "37 2022-02-11  35.84\n",
      "36 2022-02-18  34.32\n",
      "35 2022-02-25  35.29\n",
      "34 2022-03-04  33.39\n",
      "33 2022-03-11  33.00\n",
      "32 2022-03-18  37.77\n",
      "31 2022-03-25  38.60\n",
      "30 2022-04-01  39.31\n",
      "29 2022-04-08  46.23\n",
      "28 2022-04-14  45.08\n",
      "27 2022-04-22  48.93\n",
      "26 2022-04-29  49.02\n",
      "25 2022-05-06  49.80\n",
      "24 2022-05-13  40.72\n",
      "23 2022-05-20  38.29\n",
      "22 2022-05-27  40.17\n",
      "21 2022-06-03  40.16\n",
      "20 2022-06-10  38.98\n",
      "19 2022-06-17  37.78\n",
      "18 2022-06-24  39.41\n",
      "17 2022-07-01  38.23\n",
      "16 2022-07-08  36.81\n",
      "15 2022-07-15  37.74\n",
      "14 2022-07-22  39.84\n",
      "13 2022-07-29  41.61\n",
      "12 2022-08-05  42.52\n",
      "11 2022-08-12  44.26\n",
      "10 2022-08-19  43.99\n",
      "9  2022-08-26  40.46\n",
      "8  2022-09-02  38.63\n",
      "7  2022-09-09  42.19\n",
      "6  2022-09-16  41.45\n",
      "5  2022-09-23  41.58\n",
      "4  2022-09-30  43.84\n",
      "3  2022-10-07  49.18\n",
      "2  2022-10-14  50.45\n",
      "1  2022-10-21  49.89\n",
      "0  2022-10-28  53.70\n"
     ]
    }
   ],
   "source": [
    "print(df)"
   ]
  },
  {
   "cell_type": "markdown",
   "metadata": {},
   "source": [
    "Drop current week data"
   ]
  },
  {
   "cell_type": "code",
   "execution_count": 380,
   "metadata": {},
   "outputs": [],
   "source": [
    "df.drop(df.index[48], inplace=True)"
   ]
  },
  {
   "cell_type": "code",
   "execution_count": 381,
   "metadata": {},
   "outputs": [
    {
     "name": "stdout",
     "output_type": "stream",
     "text": [
      "    timestamp  value\n",
      "48 2021-11-26  47.07\n",
      "47 2021-12-03  42.07\n",
      "46 2021-12-10  45.56\n",
      "45 2021-12-17  43.07\n",
      "44 2021-12-23  44.16\n",
      "43 2021-12-31  43.22\n",
      "42 2022-01-07  39.67\n",
      "41 2022-01-14  38.44\n",
      "40 2022-01-21  34.82\n",
      "39 2022-01-28  35.27\n",
      "38 2022-02-04  36.94\n",
      "37 2022-02-11  35.84\n",
      "36 2022-02-18  34.32\n",
      "35 2022-02-25  35.29\n",
      "34 2022-03-04  33.39\n",
      "33 2022-03-11  33.00\n",
      "32 2022-03-18  37.77\n",
      "31 2022-03-25  38.60\n",
      "30 2022-04-01  39.31\n",
      "29 2022-04-08  46.23\n",
      "28 2022-04-14  45.08\n",
      "27 2022-04-22  48.93\n",
      "26 2022-04-29  49.02\n",
      "25 2022-05-06  49.80\n",
      "24 2022-05-13  40.72\n",
      "23 2022-05-20  38.29\n",
      "22 2022-05-27  40.17\n",
      "21 2022-06-03  40.16\n",
      "20 2022-06-10  38.98\n",
      "19 2022-06-17  37.78\n",
      "18 2022-06-24  39.41\n",
      "17 2022-07-01  38.23\n",
      "16 2022-07-08  36.81\n",
      "15 2022-07-15  37.74\n",
      "14 2022-07-22  39.84\n",
      "13 2022-07-29  41.61\n",
      "12 2022-08-05  42.52\n",
      "11 2022-08-12  44.26\n",
      "10 2022-08-19  43.99\n",
      "9  2022-08-26  40.46\n",
      "8  2022-09-02  38.63\n",
      "7  2022-09-09  42.19\n",
      "6  2022-09-16  41.45\n",
      "5  2022-09-23  41.58\n",
      "4  2022-09-30  43.84\n",
      "3  2022-10-07  49.18\n",
      "2  2022-10-14  50.45\n",
      "1  2022-10-21  49.89\n"
     ]
    }
   ],
   "source": [
    "print(df)"
   ]
  },
  {
   "cell_type": "code",
   "execution_count": 382,
   "metadata": {},
   "outputs": [
    {
     "data": {
      "text/plain": [
       "timestamp    48\n",
       "value        48\n",
       "dtype: int64"
      ]
     },
     "execution_count": 382,
     "metadata": {},
     "output_type": "execute_result"
    }
   ],
   "source": [
    "df.count()"
   ]
  },
  {
   "cell_type": "code",
   "execution_count": 383,
   "metadata": {},
   "outputs": [
    {
     "name": "stdout",
     "output_type": "stream",
     "text": [
      "    timestamp  value\n",
      "48 2021-11-26  47.07\n",
      "47 2021-12-03  42.07\n",
      "46 2021-12-10  45.56\n",
      "45 2021-12-17  43.07\n",
      "44 2021-12-23  44.16\n"
     ]
    }
   ],
   "source": [
    "print(df.head())"
   ]
  },
  {
   "cell_type": "code",
   "execution_count": 384,
   "metadata": {},
   "outputs": [
    {
     "name": "stdout",
     "output_type": "stream",
     "text": [
      "    timestamp  value\n",
      "48 2021-11-26  47.07\n",
      "47 2021-12-03  42.07\n",
      "46 2021-12-10  45.56\n",
      "45 2021-12-17  43.07\n",
      "44 2021-12-24  44.16\n",
      "43 2021-12-31  43.22\n",
      "42 2022-01-07  39.67\n",
      "41 2022-01-14  38.44\n",
      "40 2022-01-21  34.82\n",
      "39 2022-01-28  35.27\n",
      "38 2022-02-04  36.94\n",
      "37 2022-02-11  35.84\n",
      "36 2022-02-18  34.32\n",
      "35 2022-02-25  35.29\n",
      "34 2022-03-04  33.39\n",
      "33 2022-03-11  33.00\n",
      "32 2022-03-18  37.77\n",
      "31 2022-03-25  38.60\n",
      "30 2022-04-01  39.31\n",
      "29 2022-04-08  46.23\n",
      "28 2022-04-15  45.08\n",
      "27 2022-04-22  48.93\n",
      "26 2022-04-29  49.02\n",
      "25 2022-05-06  49.80\n",
      "24 2022-05-13  40.72\n",
      "23 2022-05-20  38.29\n",
      "22 2022-05-27  40.17\n",
      "21 2022-06-03  40.16\n",
      "20 2022-06-10  38.98\n",
      "19 2022-06-17  37.78\n",
      "18 2022-06-24  39.41\n",
      "17 2022-07-01  38.23\n",
      "16 2022-07-08  36.81\n",
      "15 2022-07-15  37.74\n",
      "14 2022-07-22  39.84\n",
      "13 2022-07-29  41.61\n",
      "12 2022-08-05  42.52\n",
      "11 2022-08-12  44.26\n",
      "10 2022-08-19  43.99\n",
      "9  2022-08-26  40.46\n",
      "8  2022-09-02  38.63\n",
      "7  2022-09-09  42.19\n",
      "6  2022-09-16  41.45\n",
      "5  2022-09-23  41.58\n",
      "4  2022-09-30  43.84\n",
      "3  2022-10-07  49.18\n",
      "2  2022-10-14  50.45\n",
      "1  2022-10-21  49.89\n"
     ]
    }
   ],
   "source": [
    "import pandas as pd\n",
    "from datetime import timedelta\n",
    "\n",
    "# Assuming your DataFrame is named \"df\" with columns \"timestamp\" and \"value\"\n",
    "# Convert the 'timestamp' column to datetime format\n",
    "df['timestamp'] = pd.to_datetime(df['timestamp'])\n",
    "\n",
    "# Get the first date (max date since the dates are in descending order)\n",
    "first_date = df['timestamp'].max()\n",
    "\n",
    "# Create a new column 'new_timestamp' with adjusted dates exactly one week apart\n",
    "df['new_timestamp'] = first_date - pd.to_timedelta(df.index * 7, unit='D')+timedelta(days=7)\n",
    "\n",
    "# Sort the DataFrame by the 'new_timestamp' column in ascending order\n",
    "df.sort_values('new_timestamp', inplace=True)\n",
    "#replace the old timestamp column with the new one\n",
    "df['timestamp'] = df['new_timestamp']\n",
    "#drop the new_timestamp column\n",
    "df.drop('new_timestamp', axis=1, inplace=True)\n",
    "\n",
    "# Print the updated DataFrame\n",
    "print(df)\n"
   ]
  },
  {
   "cell_type": "markdown",
   "metadata": {},
   "source": [
    "Add specific datetime format in timestamp column"
   ]
  },
  {
   "cell_type": "code",
   "execution_count": 385,
   "metadata": {},
   "outputs": [],
   "source": [
    "df['timestamp'] = df['timestamp'].astype(str) + 'T00:00:00Z'"
   ]
  },
  {
   "cell_type": "markdown",
   "metadata": {},
   "source": [
    "Round up value in valume column"
   ]
  },
  {
   "cell_type": "code",
   "execution_count": 386,
   "metadata": {},
   "outputs": [],
   "source": [
    "decimals = 0\n",
    "df['value'] = df['value'].apply(lambda x: round(x))"
   ]
  },
  {
   "cell_type": "code",
   "execution_count": 387,
   "metadata": {},
   "outputs": [
    {
     "name": "stdout",
     "output_type": "stream",
     "text": [
      "               timestamp  value\n",
      "48  2021-11-26T00:00:00Z     47\n",
      "47  2021-12-03T00:00:00Z     42\n",
      "46  2021-12-10T00:00:00Z     46\n",
      "45  2021-12-17T00:00:00Z     43\n",
      "44  2021-12-24T00:00:00Z     44\n"
     ]
    }
   ],
   "source": [
    "print(df.head())"
   ]
  },
  {
   "cell_type": "markdown",
   "metadata": {},
   "source": [
    "Export Dataframe to JSON file"
   ]
  },
  {
   "cell_type": "code",
   "execution_count": 388,
   "metadata": {},
   "outputs": [],
   "source": [
    "df.to_json (r'stockdatafromav.json',orient='records')"
   ]
  },
  {
   "cell_type": "markdown",
   "metadata": {},
   "source": [
    "Trying to import JSON data"
   ]
  },
  {
   "cell_type": "code",
   "execution_count": 389,
   "metadata": {},
   "outputs": [
    {
     "name": "stdout",
     "output_type": "stream",
     "text": [
      "[{'timestamp': '2021-11-26T00:00:00Z', 'value': 47}, {'timestamp': '2021-12-03T00:00:00Z', 'value': 42}, {'timestamp': '2021-12-10T00:00:00Z', 'value': 46}, {'timestamp': '2021-12-17T00:00:00Z', 'value': 43}, {'timestamp': '2021-12-24T00:00:00Z', 'value': 44}, {'timestamp': '2021-12-31T00:00:00Z', 'value': 43}, {'timestamp': '2022-01-07T00:00:00Z', 'value': 40}, {'timestamp': '2022-01-14T00:00:00Z', 'value': 38}, {'timestamp': '2022-01-21T00:00:00Z', 'value': 35}, {'timestamp': '2022-01-28T00:00:00Z', 'value': 35}, {'timestamp': '2022-02-04T00:00:00Z', 'value': 37}, {'timestamp': '2022-02-11T00:00:00Z', 'value': 36}, {'timestamp': '2022-02-18T00:00:00Z', 'value': 34}, {'timestamp': '2022-02-25T00:00:00Z', 'value': 35}, {'timestamp': '2022-03-04T00:00:00Z', 'value': 33}, {'timestamp': '2022-03-11T00:00:00Z', 'value': 33}, {'timestamp': '2022-03-18T00:00:00Z', 'value': 38}, {'timestamp': '2022-03-25T00:00:00Z', 'value': 39}, {'timestamp': '2022-04-01T00:00:00Z', 'value': 39}, {'timestamp': '2022-04-08T00:00:00Z', 'value': 46}, {'timestamp': '2022-04-15T00:00:00Z', 'value': 45}, {'timestamp': '2022-04-22T00:00:00Z', 'value': 49}, {'timestamp': '2022-04-29T00:00:00Z', 'value': 49}, {'timestamp': '2022-05-06T00:00:00Z', 'value': 50}, {'timestamp': '2022-05-13T00:00:00Z', 'value': 41}, {'timestamp': '2022-05-20T00:00:00Z', 'value': 38}, {'timestamp': '2022-05-27T00:00:00Z', 'value': 40}, {'timestamp': '2022-06-03T00:00:00Z', 'value': 40}, {'timestamp': '2022-06-10T00:00:00Z', 'value': 39}, {'timestamp': '2022-06-17T00:00:00Z', 'value': 38}, {'timestamp': '2022-06-24T00:00:00Z', 'value': 39}, {'timestamp': '2022-07-01T00:00:00Z', 'value': 38}, {'timestamp': '2022-07-08T00:00:00Z', 'value': 37}, {'timestamp': '2022-07-15T00:00:00Z', 'value': 38}, {'timestamp': '2022-07-22T00:00:00Z', 'value': 40}, {'timestamp': '2022-07-29T00:00:00Z', 'value': 42}, {'timestamp': '2022-08-05T00:00:00Z', 'value': 43}, {'timestamp': '2022-08-12T00:00:00Z', 'value': 44}, {'timestamp': '2022-08-19T00:00:00Z', 'value': 44}, {'timestamp': '2022-08-26T00:00:00Z', 'value': 40}, {'timestamp': '2022-09-02T00:00:00Z', 'value': 39}, {'timestamp': '2022-09-09T00:00:00Z', 'value': 42}, {'timestamp': '2022-09-16T00:00:00Z', 'value': 41}, {'timestamp': '2022-09-23T00:00:00Z', 'value': 42}, {'timestamp': '2022-09-30T00:00:00Z', 'value': 44}, {'timestamp': '2022-10-07T00:00:00Z', 'value': 49}, {'timestamp': '2022-10-14T00:00:00Z', 'value': 50}, {'timestamp': '2022-10-21T00:00:00Z', 'value': 50}]\n"
     ]
    }
   ],
   "source": [
    "import json\n",
    "stock_data_from_av = json.load(open('stockdatafromav.json'))\n",
    "print(stock_data_from_av)"
   ]
  },
  {
   "cell_type": "markdown",
   "metadata": {},
   "source": [
    "Read JSON data from filesystem"
   ]
  },
  {
   "cell_type": "code",
   "execution_count": 390,
   "metadata": {},
   "outputs": [
    {
     "name": "stdout",
     "output_type": "stream",
     "text": [
      "[{\"timestamp\":\"2021-11-26T00:00:00Z\",\"value\":47},{\"timestamp\":\"2021-12-03T00:00:00Z\",\"value\":42},{\"timestamp\":\"2021-12-10T00:00:00Z\",\"value\":46},{\"timestamp\":\"2021-12-17T00:00:00Z\",\"value\":43},{\"timestamp\":\"2021-12-24T00:00:00Z\",\"value\":44},{\"timestamp\":\"2021-12-31T00:00:00Z\",\"value\":43},{\"timestamp\":\"2022-01-07T00:00:00Z\",\"value\":40},{\"timestamp\":\"2022-01-14T00:00:00Z\",\"value\":38},{\"timestamp\":\"2022-01-21T00:00:00Z\",\"value\":35},{\"timestamp\":\"2022-01-28T00:00:00Z\",\"value\":35},{\"timestamp\":\"2022-02-04T00:00:00Z\",\"value\":37},{\"timestamp\":\"2022-02-11T00:00:00Z\",\"value\":36},{\"timestamp\":\"2022-02-18T00:00:00Z\",\"value\":34},{\"timestamp\":\"2022-02-25T00:00:00Z\",\"value\":35},{\"timestamp\":\"2022-03-04T00:00:00Z\",\"value\":33},{\"timestamp\":\"2022-03-11T00:00:00Z\",\"value\":33},{\"timestamp\":\"2022-03-18T00:00:00Z\",\"value\":38},{\"timestamp\":\"2022-03-25T00:00:00Z\",\"value\":39},{\"timestamp\":\"2022-04-01T00:00:00Z\",\"value\":39},{\"timestamp\":\"2022-04-08T00:00:00Z\",\"value\":46},{\"timestamp\":\"2022-04-15T00:00:00Z\",\"value\":45},{\"timestamp\":\"2022-04-22T00:00:00Z\",\"value\":49},{\"timestamp\":\"2022-04-29T00:00:00Z\",\"value\":49},{\"timestamp\":\"2022-05-06T00:00:00Z\",\"value\":50},{\"timestamp\":\"2022-05-13T00:00:00Z\",\"value\":41},{\"timestamp\":\"2022-05-20T00:00:00Z\",\"value\":38},{\"timestamp\":\"2022-05-27T00:00:00Z\",\"value\":40},{\"timestamp\":\"2022-06-03T00:00:00Z\",\"value\":40},{\"timestamp\":\"2022-06-10T00:00:00Z\",\"value\":39},{\"timestamp\":\"2022-06-17T00:00:00Z\",\"value\":38},{\"timestamp\":\"2022-06-24T00:00:00Z\",\"value\":39},{\"timestamp\":\"2022-07-01T00:00:00Z\",\"value\":38},{\"timestamp\":\"2022-07-08T00:00:00Z\",\"value\":37},{\"timestamp\":\"2022-07-15T00:00:00Z\",\"value\":38},{\"timestamp\":\"2022-07-22T00:00:00Z\",\"value\":40},{\"timestamp\":\"2022-07-29T00:00:00Z\",\"value\":42},{\"timestamp\":\"2022-08-05T00:00:00Z\",\"value\":43},{\"timestamp\":\"2022-08-12T00:00:00Z\",\"value\":44},{\"timestamp\":\"2022-08-19T00:00:00Z\",\"value\":44},{\"timestamp\":\"2022-08-26T00:00:00Z\",\"value\":40},{\"timestamp\":\"2022-09-02T00:00:00Z\",\"value\":39},{\"timestamp\":\"2022-09-09T00:00:00Z\",\"value\":42},{\"timestamp\":\"2022-09-16T00:00:00Z\",\"value\":41},{\"timestamp\":\"2022-09-23T00:00:00Z\",\"value\":42},{\"timestamp\":\"2022-09-30T00:00:00Z\",\"value\":44},{\"timestamp\":\"2022-10-07T00:00:00Z\",\"value\":49},{\"timestamp\":\"2022-10-14T00:00:00Z\",\"value\":50},{\"timestamp\":\"2022-10-21T00:00:00Z\",\"value\":50}]\n"
     ]
    }
   ],
   "source": [
    "with open(r\"stockdatafromav.json\", \"r+\") as f:\n",
    "    rjsoninfile = f.read()\n",
    "    print(rjsoninfile)"
   ]
  },
  {
   "cell_type": "markdown",
   "metadata": {},
   "source": [
    "Adding some specific prefix to fit Anomaly Detector API format"
   ]
  },
  {
   "cell_type": "code",
   "execution_count": 391,
   "metadata": {},
   "outputs": [
    {
     "name": "stdout",
     "output_type": "stream",
     "text": [
      "{\"granularity\": \"weekly\", \"series\": [{\"timestamp\":\"2021-11-26T00:00:00Z\",\"value\":47},{\"timestamp\":\"2021-12-03T00:00:00Z\",\"value\":42},{\"timestamp\":\"2021-12-10T00:00:00Z\",\"value\":46},{\"timestamp\":\"2021-12-17T00:00:00Z\",\"value\":43},{\"timestamp\":\"2021-12-24T00:00:00Z\",\"value\":44},{\"timestamp\":\"2021-12-31T00:00:00Z\",\"value\":43},{\"timestamp\":\"2022-01-07T00:00:00Z\",\"value\":40},{\"timestamp\":\"2022-01-14T00:00:00Z\",\"value\":38},{\"timestamp\":\"2022-01-21T00:00:00Z\",\"value\":35},{\"timestamp\":\"2022-01-28T00:00:00Z\",\"value\":35},{\"timestamp\":\"2022-02-04T00:00:00Z\",\"value\":37},{\"timestamp\":\"2022-02-11T00:00:00Z\",\"value\":36},{\"timestamp\":\"2022-02-18T00:00:00Z\",\"value\":34},{\"timestamp\":\"2022-02-25T00:00:00Z\",\"value\":35},{\"timestamp\":\"2022-03-04T00:00:00Z\",\"value\":33},{\"timestamp\":\"2022-03-11T00:00:00Z\",\"value\":33},{\"timestamp\":\"2022-03-18T00:00:00Z\",\"value\":38},{\"timestamp\":\"2022-03-25T00:00:00Z\",\"value\":39},{\"timestamp\":\"2022-04-01T00:00:00Z\",\"value\":39},{\"timestamp\":\"2022-04-08T00:00:00Z\",\"value\":46},{\"timestamp\":\"2022-04-15T00:00:00Z\",\"value\":45},{\"timestamp\":\"2022-04-22T00:00:00Z\",\"value\":49},{\"timestamp\":\"2022-04-29T00:00:00Z\",\"value\":49},{\"timestamp\":\"2022-05-06T00:00:00Z\",\"value\":50},{\"timestamp\":\"2022-05-13T00:00:00Z\",\"value\":41},{\"timestamp\":\"2022-05-20T00:00:00Z\",\"value\":38},{\"timestamp\":\"2022-05-27T00:00:00Z\",\"value\":40},{\"timestamp\":\"2022-06-03T00:00:00Z\",\"value\":40},{\"timestamp\":\"2022-06-10T00:00:00Z\",\"value\":39},{\"timestamp\":\"2022-06-17T00:00:00Z\",\"value\":38},{\"timestamp\":\"2022-06-24T00:00:00Z\",\"value\":39},{\"timestamp\":\"2022-07-01T00:00:00Z\",\"value\":38},{\"timestamp\":\"2022-07-08T00:00:00Z\",\"value\":37},{\"timestamp\":\"2022-07-15T00:00:00Z\",\"value\":38},{\"timestamp\":\"2022-07-22T00:00:00Z\",\"value\":40},{\"timestamp\":\"2022-07-29T00:00:00Z\",\"value\":42},{\"timestamp\":\"2022-08-05T00:00:00Z\",\"value\":43},{\"timestamp\":\"2022-08-12T00:00:00Z\",\"value\":44},{\"timestamp\":\"2022-08-19T00:00:00Z\",\"value\":44},{\"timestamp\":\"2022-08-26T00:00:00Z\",\"value\":40},{\"timestamp\":\"2022-09-02T00:00:00Z\",\"value\":39},{\"timestamp\":\"2022-09-09T00:00:00Z\",\"value\":42},{\"timestamp\":\"2022-09-16T00:00:00Z\",\"value\":41},{\"timestamp\":\"2022-09-23T00:00:00Z\",\"value\":42},{\"timestamp\":\"2022-09-30T00:00:00Z\",\"value\":44},{\"timestamp\":\"2022-10-07T00:00:00Z\",\"value\":49},{\"timestamp\":\"2022-10-14T00:00:00Z\",\"value\":50},{\"timestamp\":\"2022-10-21T00:00:00Z\",\"value\":50}]\n"
     ]
    }
   ],
   "source": [
    "with open(r\"stockdatafromav.json\", \"w+\") as f:\n",
    "        f.write(\"{\\\"granularity\\\": \\\"weekly\\\", \\\"series\\\": \" + rjsoninfile)\n",
    "with open(r\"stockdatafromav.json\", \"r+\") as f:\n",
    "        rjsoninfilea = f.read()\n",
    "        print(rjsoninfilea)"
   ]
  },
  {
   "cell_type": "markdown",
   "metadata": {},
   "source": [
    "Adding some specfic suffix to fit Anomaly Detector API format"
   ]
  },
  {
   "cell_type": "code",
   "execution_count": 392,
   "metadata": {},
   "outputs": [
    {
     "name": "stdout",
     "output_type": "stream",
     "text": [
      "{\"granularity\": \"weekly\", \"series\": [{\"timestamp\":\"2021-11-26T00:00:00Z\",\"value\":47},{\"timestamp\":\"2021-12-03T00:00:00Z\",\"value\":42},{\"timestamp\":\"2021-12-10T00:00:00Z\",\"value\":46},{\"timestamp\":\"2021-12-17T00:00:00Z\",\"value\":43},{\"timestamp\":\"2021-12-24T00:00:00Z\",\"value\":44},{\"timestamp\":\"2021-12-31T00:00:00Z\",\"value\":43},{\"timestamp\":\"2022-01-07T00:00:00Z\",\"value\":40},{\"timestamp\":\"2022-01-14T00:00:00Z\",\"value\":38},{\"timestamp\":\"2022-01-21T00:00:00Z\",\"value\":35},{\"timestamp\":\"2022-01-28T00:00:00Z\",\"value\":35},{\"timestamp\":\"2022-02-04T00:00:00Z\",\"value\":37},{\"timestamp\":\"2022-02-11T00:00:00Z\",\"value\":36},{\"timestamp\":\"2022-02-18T00:00:00Z\",\"value\":34},{\"timestamp\":\"2022-02-25T00:00:00Z\",\"value\":35},{\"timestamp\":\"2022-03-04T00:00:00Z\",\"value\":33},{\"timestamp\":\"2022-03-11T00:00:00Z\",\"value\":33},{\"timestamp\":\"2022-03-18T00:00:00Z\",\"value\":38},{\"timestamp\":\"2022-03-25T00:00:00Z\",\"value\":39},{\"timestamp\":\"2022-04-01T00:00:00Z\",\"value\":39},{\"timestamp\":\"2022-04-08T00:00:00Z\",\"value\":46},{\"timestamp\":\"2022-04-15T00:00:00Z\",\"value\":45},{\"timestamp\":\"2022-04-22T00:00:00Z\",\"value\":49},{\"timestamp\":\"2022-04-29T00:00:00Z\",\"value\":49},{\"timestamp\":\"2022-05-06T00:00:00Z\",\"value\":50},{\"timestamp\":\"2022-05-13T00:00:00Z\",\"value\":41},{\"timestamp\":\"2022-05-20T00:00:00Z\",\"value\":38},{\"timestamp\":\"2022-05-27T00:00:00Z\",\"value\":40},{\"timestamp\":\"2022-06-03T00:00:00Z\",\"value\":40},{\"timestamp\":\"2022-06-10T00:00:00Z\",\"value\":39},{\"timestamp\":\"2022-06-17T00:00:00Z\",\"value\":38},{\"timestamp\":\"2022-06-24T00:00:00Z\",\"value\":39},{\"timestamp\":\"2022-07-01T00:00:00Z\",\"value\":38},{\"timestamp\":\"2022-07-08T00:00:00Z\",\"value\":37},{\"timestamp\":\"2022-07-15T00:00:00Z\",\"value\":38},{\"timestamp\":\"2022-07-22T00:00:00Z\",\"value\":40},{\"timestamp\":\"2022-07-29T00:00:00Z\",\"value\":42},{\"timestamp\":\"2022-08-05T00:00:00Z\",\"value\":43},{\"timestamp\":\"2022-08-12T00:00:00Z\",\"value\":44},{\"timestamp\":\"2022-08-19T00:00:00Z\",\"value\":44},{\"timestamp\":\"2022-08-26T00:00:00Z\",\"value\":40},{\"timestamp\":\"2022-09-02T00:00:00Z\",\"value\":39},{\"timestamp\":\"2022-09-09T00:00:00Z\",\"value\":42},{\"timestamp\":\"2022-09-16T00:00:00Z\",\"value\":41},{\"timestamp\":\"2022-09-23T00:00:00Z\",\"value\":42},{\"timestamp\":\"2022-09-30T00:00:00Z\",\"value\":44},{\"timestamp\":\"2022-10-07T00:00:00Z\",\"value\":49},{\"timestamp\":\"2022-10-14T00:00:00Z\",\"value\":50},{\"timestamp\":\"2022-10-21T00:00:00Z\",\"value\":50}]}\n"
     ]
    }
   ],
   "source": [
    "with open(r\"stockdatafromav.json\", \"w+\") as f:\n",
    "        f.write(rjsoninfilea + \"}\")\n",
    "with open(r\"stockdatafromav.json\", \"r+\") as f:\n",
    "        rjsoninfileb = f.read()\n",
    "        print(rjsoninfileb)"
   ]
  },
  {
   "cell_type": "markdown",
   "metadata": {},
   "source": [
    "Trying to import JSON data again"
   ]
  },
  {
   "cell_type": "code",
   "execution_count": 393,
   "metadata": {},
   "outputs": [
    {
     "name": "stdout",
     "output_type": "stream",
     "text": [
      "{'granularity': 'weekly', 'series': [{'timestamp': '2021-11-26T00:00:00Z', 'value': 47}, {'timestamp': '2021-12-03T00:00:00Z', 'value': 42}, {'timestamp': '2021-12-10T00:00:00Z', 'value': 46}, {'timestamp': '2021-12-17T00:00:00Z', 'value': 43}, {'timestamp': '2021-12-24T00:00:00Z', 'value': 44}, {'timestamp': '2021-12-31T00:00:00Z', 'value': 43}, {'timestamp': '2022-01-07T00:00:00Z', 'value': 40}, {'timestamp': '2022-01-14T00:00:00Z', 'value': 38}, {'timestamp': '2022-01-21T00:00:00Z', 'value': 35}, {'timestamp': '2022-01-28T00:00:00Z', 'value': 35}, {'timestamp': '2022-02-04T00:00:00Z', 'value': 37}, {'timestamp': '2022-02-11T00:00:00Z', 'value': 36}, {'timestamp': '2022-02-18T00:00:00Z', 'value': 34}, {'timestamp': '2022-02-25T00:00:00Z', 'value': 35}, {'timestamp': '2022-03-04T00:00:00Z', 'value': 33}, {'timestamp': '2022-03-11T00:00:00Z', 'value': 33}, {'timestamp': '2022-03-18T00:00:00Z', 'value': 38}, {'timestamp': '2022-03-25T00:00:00Z', 'value': 39}, {'timestamp': '2022-04-01T00:00:00Z', 'value': 39}, {'timestamp': '2022-04-08T00:00:00Z', 'value': 46}, {'timestamp': '2022-04-15T00:00:00Z', 'value': 45}, {'timestamp': '2022-04-22T00:00:00Z', 'value': 49}, {'timestamp': '2022-04-29T00:00:00Z', 'value': 49}, {'timestamp': '2022-05-06T00:00:00Z', 'value': 50}, {'timestamp': '2022-05-13T00:00:00Z', 'value': 41}, {'timestamp': '2022-05-20T00:00:00Z', 'value': 38}, {'timestamp': '2022-05-27T00:00:00Z', 'value': 40}, {'timestamp': '2022-06-03T00:00:00Z', 'value': 40}, {'timestamp': '2022-06-10T00:00:00Z', 'value': 39}, {'timestamp': '2022-06-17T00:00:00Z', 'value': 38}, {'timestamp': '2022-06-24T00:00:00Z', 'value': 39}, {'timestamp': '2022-07-01T00:00:00Z', 'value': 38}, {'timestamp': '2022-07-08T00:00:00Z', 'value': 37}, {'timestamp': '2022-07-15T00:00:00Z', 'value': 38}, {'timestamp': '2022-07-22T00:00:00Z', 'value': 40}, {'timestamp': '2022-07-29T00:00:00Z', 'value': 42}, {'timestamp': '2022-08-05T00:00:00Z', 'value': 43}, {'timestamp': '2022-08-12T00:00:00Z', 'value': 44}, {'timestamp': '2022-08-19T00:00:00Z', 'value': 44}, {'timestamp': '2022-08-26T00:00:00Z', 'value': 40}, {'timestamp': '2022-09-02T00:00:00Z', 'value': 39}, {'timestamp': '2022-09-09T00:00:00Z', 'value': 42}, {'timestamp': '2022-09-16T00:00:00Z', 'value': 41}, {'timestamp': '2022-09-23T00:00:00Z', 'value': 42}, {'timestamp': '2022-09-30T00:00:00Z', 'value': 44}, {'timestamp': '2022-10-07T00:00:00Z', 'value': 49}, {'timestamp': '2022-10-14T00:00:00Z', 'value': 50}, {'timestamp': '2022-10-21T00:00:00Z', 'value': 50}]}\n"
     ]
    }
   ],
   "source": [
    "import json\n",
    "stock_data_from_av = json.load(open('stockdatafromav.json'))\n",
    "print(stock_data_from_av)"
   ]
  },
  {
   "cell_type": "markdown",
   "metadata": {},
   "source": [
    "All Done!"
   ]
  }
 ],
 "metadata": {
  "kernelspec": {
   "display_name": "Python 3.9.12 ('base')",
   "language": "python",
   "name": "python3"
  },
  "language_info": {
   "codemirror_mode": {
    "name": "ipython",
    "version": 3
   },
   "file_extension": ".py",
   "mimetype": "text/x-python",
   "name": "python",
   "nbconvert_exporter": "python",
   "pygments_lexer": "ipython3",
   "version": "3.9.12"
  },
  "vscode": {
   "interpreter": {
    "hash": "ad2bdc8ecc057115af97d19610ffacc2b4e99fae6737bb82f5d7fb13d2f2c186"
   }
  }
 },
 "nbformat": 4,
 "nbformat_minor": 2
}
